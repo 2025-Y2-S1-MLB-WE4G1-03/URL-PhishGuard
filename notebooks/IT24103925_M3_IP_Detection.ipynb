{
 "cells": [
  {
   "cell_type": "markdown",
   "id": "e88e0de0",
   "metadata": {},
   "source": [
    "# M3 - IP Detection & Digit Density Analysis\n",
    "\n",
    "**Student ID**: IT24103925  \n",
    "**Focus**: Detect direct IP usage and calculate digit density  \n",
    "**Visualization**: Bar chart showing IP address frequency per label\n",
    "\n",
    "## Overview\n",
    "\n",
    "1. Detect direct IP address usage (a common phishing tactic)\n",
    "2. Calculate digit density in URLs\n",
    "3. Visualize the relationship between these features and phishing labels"
   ]
  },
  {
   "cell_type": "code",
   "execution_count": 2,
   "id": "f603bfb9",
   "metadata": {},
   "outputs": [
    {
     "name": "stdout",
     "output_type": "stream",
     "text": [
      "Libraries imported successfully!\n"
     ]
    }
   ],
   "source": [
    "# Import required libraries\n",
    "import pandas as pd\n",
    "import numpy as np\n",
    "import matplotlib.pyplot as plt\n",
    "import seaborn as sns\n",
    "import re\n",
    "import warnings\n",
    "\n",
    "# Set up plotting\n",
    "plt.style.use('default')\n",
    "sns.set_palette(\"husl\")\n",
    "warnings.filterwarnings('ignore')\n",
    "\n",
    "print(\"Libraries imported successfully!\")"
   ]
  },
  {
   "cell_type": "code",
   "execution_count": 3,
   "id": "6ca11cfb",
   "metadata": {},
   "outputs": [
    {
     "name": "stdout",
     "output_type": "stream",
     "text": [
      "Dataset loaded successfully!\n",
      "Shape: (549346, 2)\n",
      "Columns: ['URL', 'Label']\n",
      "\n",
      "Label distribution:\n",
      "Label\n",
      "good    392924\n",
      "bad     156422\n",
      "Name: count, dtype: int64\n",
      "\n",
      "First few URLs:\n",
      "                                                 URL Label\n",
      "0  nobell.it/70ffb52d079109dca5664cce6f317373782/...   bad\n",
      "1  www.dghjdgf.com/paypal.co.uk/cycgi-bin/webscrc...   bad\n",
      "2  serviciosbys.com/paypal.cgi.bin.get-into.herf....   bad\n",
      "3  mail.printakid.com/www.online.americanexpress....   bad\n",
      "4  thewhiskeydregs.com/wp-content/themes/widescre...   bad\n"
     ]
    }
   ],
   "source": [
    "# Load the dataset\n",
    "data_path = '../data/raw/phishing_site_urls.csv'\n",
    "df = pd.read_csv(data_path)\n",
    "\n",
    "print(f\"Dataset loaded successfully!\")\n",
    "print(f\"Shape: {df.shape}\")\n",
    "print(f\"Columns: {df.columns.tolist()}\")\n",
    "print(f\"\\nLabel distribution:\")\n",
    "print(df['Label'].value_counts())\n",
    "print(f\"\\nFirst few URLs:\")\n",
    "print(df.head())"
   ]
  },
  {
   "cell_type": "markdown",
   "id": "b71236f5",
   "metadata": {},
   "source": [
    "## Feature Engineering: IP Detection\n",
    "\n",
    "Function to detect if a URL contains a direct IP address."
   ]
  },
  {
   "cell_type": "code",
   "execution_count": 4,
   "id": "2eb25731",
   "metadata": {},
   "outputs": [
    {
     "name": "stdout",
     "output_type": "stream",
     "text": [
      "Testing IP detection function:\n",
      "http://192.168.1.1/login.php -> Has IP\n",
      "https://www.google.com/search -> No IP\n",
      "http://127.0.0.1:8080/admin -> Has IP\n",
      "https://paypal.com/login -> No IP\n"
     ]
    }
   ],
   "source": [
    "def has_ip_address(url):\n",
    "    \"\"\"\n",
    "    Check if URL contains a direct IP address\n",
    "    Returns 1 if IP found, 0 otherwise\n",
    "    \"\"\"\n",
    "    # IPv4 pattern: matches IP addresses like 192.168.1.1\n",
    "    ipv4_pattern = r'\\b(?:[0-9]{1,3}\\.){3}[0-9]{1,3}\\b'\n",
    "    \n",
    "    # Check if the pattern matches in the URL\n",
    "    if re.search(ipv4_pattern, url):\n",
    "        return 1\n",
    "    else:\n",
    "        return 0\n",
    "\n",
    "# Test the function with sample URLs\n",
    "test_urls = [\n",
    "    'http://192.168.1.1/login.php',\n",
    "    'https://www.google.com/search',\n",
    "    'http://127.0.0.1:8080/admin',\n",
    "    'https://paypal.com/login'\n",
    "]\n",
    "\n",
    "print(\"Testing IP detection function:\")\n",
    "for url in test_urls:\n",
    "    result = has_ip_address(url)\n",
    "    print(f\"{url} -> {'Has IP' if result == 1 else 'No IP'}\")"
   ]
  },
  {
   "cell_type": "markdown",
   "id": "b78ca7ab",
   "metadata": {},
   "source": [
    "## Feature Engineering: Digit Density\n",
    "\n",
    "Calculate the digit density - the ratio of digits to total characters in a URL. URLs with high digit density might indicate suspicious patterns."
   ]
  },
  {
   "cell_type": "code",
   "execution_count": 5,
   "id": "3dffdc74",
   "metadata": {},
   "outputs": [
    {
     "name": "stdout",
     "output_type": "stream",
     "text": [
      "Testing digit density calculation:\n",
      "https://www.example.com -> Digit density: 0.000\n",
      "http://192.168.1.1/login -> Digit density: 0.333\n",
      "https://site123.com/page456 -> Digit density: 0.222\n",
      "http://test999888777.com/12345 -> Digit density: 0.467\n"
     ]
    }
   ],
   "source": [
    "def calculate_digit_density(url):\n",
    "    \"\"\"\n",
    "    Calculate the ratio of digits to total characters in URL\n",
    "    Returns a value between 0 and 1\n",
    "    \"\"\"\n",
    "    if len(url) == 0:\n",
    "        return 0\n",
    "    \n",
    "    # Count digits in the URL\n",
    "    digit_count = sum(1 for char in url if char.isdigit())\n",
    "    \n",
    "    # Calculate density\n",
    "    digit_density = digit_count / len(url)\n",
    "    return digit_density\n",
    "\n",
    "# Test the function\n",
    "test_urls = [\n",
    "    'https://www.example.com',\n",
    "    'http://192.168.1.1/login',\n",
    "    'https://site123.com/page456',\n",
    "    'http://test999888777.com/12345'\n",
    "]\n",
    "\n",
    "print(\"Testing digit density calculation:\")\n",
    "for url in test_urls:\n",
    "    density = calculate_digit_density(url)\n",
    "    print(f\"{url} -> Digit density: {density:.3f}\")"
   ]
  },
  {
   "cell_type": "markdown",
   "id": "920a7f4f",
   "metadata": {},
   "source": [
    "## Apply Feature Extraction to Dataset\n",
    "\n"
   ]
  },
  {
   "cell_type": "code",
   "execution_count": 6,
   "id": "b6e7b6d6",
   "metadata": {},
   "outputs": [
    {
     "name": "stdout",
     "output_type": "stream",
     "text": [
      "Extracting IP detection features...\n",
      "Calculating digit density for all URLs...\n",
      "Feature extraction completed!\n",
      "\n",
      "Sample of extracted features:\n",
      "                                                                                                                                                                                                                              URL Label  has_ip  digit_density\n",
      "nobell.it/70ffb52d079109dca5664cce6f317373782/login.SkyPe.com/en/cgi-bin/verification/login/70ffb52d079109dca5664cce6f317373/index.php?cmd=_profile-ach&outdated_page_tmpl=p/gen/failed-to-load&nav=0.5.1&login_access=1322408526   bad       0       0.257778\n",
      "                                                                                                                                                www.dghjdgf.com/paypal.co.uk/cycgi-bin/webscrcmd=_home-customer&nav=1/loading.php   bad       0       0.012346\n",
      "                                                serviciosbys.com/paypal.cgi.bin.get-into.herf.secure.dispatch35463256rzr321654641dsf654321874/href/href/href/secure/center/update/limit/seccure/4d7a1ff5c55825a2e632a679c2fd5353/   bad       0       0.265537\n",
      "                                                                                                                                                                     mail.printakid.com/www.online.americanexpress.com/index.html   bad       0       0.000000\n",
      "                                                                                                             thewhiskeydregs.com/wp-content/themes/widescreen/includes/temp/promocoessmiles/?84784787824HDJNDJDSJSHD//2724782784/   bad       0       0.181034\n",
      "                                                                                                                                                                                             smilesvoegol.servebbs.org/voegol.php   bad       0       0.000000\n",
      "                                                                                                                                                                    premierpaymentprocessing.com/includes/boleto-2via-07-2012.php   bad       0       0.114754\n",
      "                                                                                                                                                                     myxxxcollection.com/v1/js/jih321/bpd.com.do/do/l.popular.php   bad       0       0.066667\n",
      "                                                                                                                                                                                                              super1000.info/docs   bad       0       0.210526\n",
      "                                horizonsgallery.com/js/bin/ssl1/_id/www.paypal.com/fr/cgi-bin/webscr/cmd=_registration-run/login.php?cmd=_login-run&amp;dispatch=1471c4bdb044ae2be9e2fc3ec514b88b1471c4bdb044ae2be9e2fc3ec514b88b   bad       0       0.181347\n",
      "\n",
      "Feature Statistics:\n",
      "URLs with IP addresses: 8160 (1.49%)\n",
      "Average digit density: 0.0734\n",
      "Max digit density: 0.8276\n",
      "Min digit density: 0.0000\n"
     ]
    }
   ],
   "source": [
    "# Apply IP detection to all URLs\n",
    "print(\"Extracting IP detection features...\")\n",
    "df['has_ip'] = df['URL'].apply(has_ip_address)\n",
    "\n",
    "# Apply digit density calculation to all URLs\n",
    "print(\"Calculating digit density for all URLs...\")\n",
    "df['digit_density'] = df['URL'].apply(calculate_digit_density)\n",
    "\n",
    "print(\"Feature extraction completed!\")\n",
    "\n",
    "# Display sample results\n",
    "print(f\"\\nSample of extracted features:\")\n",
    "sample_df = df[['URL', 'Label', 'has_ip', 'digit_density']].head(10)\n",
    "print(sample_df.to_string(index=False))\n",
    "\n",
    "# Basic statistics\n",
    "print(f\"\\nFeature Statistics:\")\n",
    "print(f\"URLs with IP addresses: {df['has_ip'].sum()} ({df['has_ip'].mean()*100:.2f}%)\")\n",
    "print(f\"Average digit density: {df['digit_density'].mean():.4f}\")\n",
    "print(f\"Max digit density: {df['digit_density'].max():.4f}\")\n",
    "print(f\"Min digit density: {df['digit_density'].min():.4f}\")"
   ]
  },
  {
   "cell_type": "markdown",
   "id": "8ec8e17c",
   "metadata": {},
   "source": [
    "## Data Analysis & Visualization"
   ]
  },
  {
   "cell_type": "code",
   "execution_count": 7,
   "id": "4d6ce044",
   "metadata": {},
   "outputs": [
    {
     "name": "stdout",
     "output_type": "stream",
     "text": [
      "IP Usage Analysis by Label:\n",
      "       Total_URLs  IPs_Found  IP_Percentage\n",
      "Label                                      \n",
      "bad        156422       8036           5.14\n",
      "good       392924        124           0.03\n",
      "\n",
      "Digit Density Analysis by Label:\n",
      "         mean     std  min     max\n",
      "Label                             \n",
      "bad    0.1089  0.1519  0.0  0.8276\n",
      "good   0.0593  0.0835  0.0  0.8000\n"
     ]
    }
   ],
   "source": [
    "# Analyze IP usage by label\n",
    "ip_analysis = df.groupby('Label')['has_ip'].agg(['count', 'sum', 'mean']).round(4)\n",
    "ip_analysis.columns = ['Total_URLs', 'IPs_Found', 'IP_Percentage']\n",
    "ip_analysis['IP_Percentage'] = ip_analysis['IP_Percentage'] * 100\n",
    "\n",
    "print(\"IP Usage Analysis by Label:\")\n",
    "print(ip_analysis)\n",
    "\n",
    "# Analyze digit density by label\n",
    "digit_analysis = df.groupby('Label')['digit_density'].agg(['mean', 'std', 'min', 'max']).round(4)\n",
    "print(\"\\nDigit Density Analysis by Label:\")\n",
    "print(digit_analysis)"
   ]
  },
  {
   "cell_type": "code",
   "execution_count": 8,
   "id": "2176f586",
   "metadata": {},
   "outputs": [
    {
     "data": {
      "image/png": "[encoded data removed]",
      "text/plain": [
       "<Figure size 1500x600 with 2 Axes>"
      ]
     },
     "metadata": {},
     "output_type": "display_data"
    },
    {
     "name": "stdout",
     "output_type": "stream",
     "text": [
      "\n",
      "🔍 Key Insights from M3 Analysis:\n",
      "==================================================\n",
      "1. IP Address Detection:\n",
      "   - Bad URLs with IPs: 5.14%\n",
      "   - Good URLs with IPs: 0.03%\n",
      "\n",
      "2. Digit Density Analysis:\n",
      "   - Bad URLs average digit density: 0.1089\n",
      "   - Good URLs average digit density: 0.0593\n",
      "\n",
      "✅ Malicious URLs show higher IP usage - confirms phishing pattern!\n"
     ]
    }
   ],
   "source": [
    "# Create the main visualization: Bar chart showing IP address frequency per label\n",
    "fig, (ax1, ax2) = plt.subplots(1, 2, figsize=(15, 6))\n",
    "\n",
    "# Chart 1: IP Address Usage by Label (Required visualization)\n",
    "ip_counts = df.groupby(['Label', 'has_ip']).size().unstack(fill_value=0)\n",
    "ip_percentages = df.groupby('Label')['has_ip'].mean() * 100\n",
    "\n",
    "# Bar chart for IP usage percentages\n",
    "labels = ip_percentages.index\n",
    "x_pos = np.arange(len(labels))\n",
    "bars = ax1.bar(x_pos, ip_percentages.values, \n",
    "               color=['#2E8B57' if label == 'good' else '#DC143C' for label in labels],\n",
    "               alpha=0.8, edgecolor='black', linewidth=1.2)\n",
    "\n",
    "ax1.set_xlabel('URL Label', fontsize=12, fontweight='bold')\n",
    "ax1.set_ylabel('Percentage of URLs with IP Addresses (%)', fontsize=12, fontweight='bold')\n",
    "ax1.set_title('IP Address Usage Frequency by Label\\n(M3 Required Visualization)', \n",
    "              fontsize=14, fontweight='bold', pad=20)\n",
    "ax1.set_xticks(x_pos)\n",
    "ax1.set_xticklabels([label.title() for label in labels])\n",
    "ax1.grid(axis='y', alpha=0.3)\n",
    "\n",
    "# Add value labels on bars\n",
    "for i, bar in enumerate(bars):\n",
    "    height = bar.get_height()\n",
    "    ax1.text(bar.get_x() + bar.get_width()/2., height + 0.01,\n",
    "             f'{height:.2f}%', ha='center', va='bottom', fontweight='bold')\n",
    "\n",
    "# Chart 2: Digit Density Distribution by Label\n",
    "df.boxplot(column='digit_density', by='Label', ax=ax2)\n",
    "ax2.set_xlabel('URL Label', fontsize=12, fontweight='bold')\n",
    "ax2.set_ylabel('Digit Density', fontsize=12, fontweight='bold')\n",
    "ax2.set_title('Digit Density Distribution by Label', fontsize=14, fontweight='bold')\n",
    "ax2.grid(alpha=0.3)\n",
    "\n",
    "plt.suptitle('M3: IP Detection & Digit Density Analysis', fontsize=16, fontweight='bold', y=1.02)\n",
    "plt.tight_layout()\n",
    "plt.show()\n",
    "\n",
    "# Print key insights\n",
    "print(f\"\\n🔍 Key Insights from M3 Analysis:\")\n",
    "print(f\"{'='*50}\")\n",
    "print(f\"1. IP Address Detection:\")\n",
    "for label in ip_percentages.index:\n",
    "    print(f\"   - {label.title()} URLs with IPs: {ip_percentages[label]:.2f}%\")\n",
    "\n",
    "print(f\"\\n2. Digit Density Analysis:\")\n",
    "for label in digit_analysis.index:\n",
    "    mean_density = digit_analysis.loc[label, 'mean']\n",
    "    print(f\"   - {label.title()} URLs average digit density: {mean_density:.4f}\")\n",
    "\n",
    "if ip_percentages['bad'] > ip_percentages['good']:\n",
    "    print(f\"\\n✅ Malicious URLs show higher IP usage - confirms phishing pattern!\")\n",
    "else:\n",
    "    print(f\"\\n⚠️  Legitimate URLs show higher IP usage - unexpected pattern!\")"
   ]
  },
  {
   "cell_type": "markdown",
   "id": "b9b85125",
   "metadata": {},
   "source": [
    "## Feature Summary & Export\n",
    "\n",
    "Let's create a summary of our extracted features and prepare the data for the next analysis phase."
   ]
  },
  {
   "cell_type": "code",
   "execution_count": 10,
   "id": "c236b070",
   "metadata": {},
   "outputs": [
    {
     "name": "stdout",
     "output_type": "stream",
     "text": [
      "M3 Feature Engineering Summary:\n",
      "============================================================\n",
      "      Feature                                                        Description       Type  Min_Value  Max_Value  Mean_Value\n",
      "       has_ip Binary flag indicating direct IP address usage (1=has IP, 0=no IP)     Binary        0.0   1.000000    0.014854\n",
      "digit_density             Ratio of digits to total characters in URL (0-1 scale) Continuous        0.0   0.827586    0.073423\n",
      "\n",
      "Final dataset shape: (549346, 4)\n",
      "New features added: has_ip, digit_density\n",
      "\n",
      "Dataset columns: ['URL', 'Label', 'has_ip', 'digit_density']\n",
      "IP Detection & Digit Density features successfully extracted\n"
     ]
    }
   ],
   "source": [
    "# Create feature summary\n",
    "feature_summary = pd.DataFrame({\n",
    "    'Feature': ['has_ip', 'digit_density'],\n",
    "    'Description': [\n",
    "        'Binary flag indicating direct IP address usage (1=has IP, 0=no IP)',\n",
    "        'Ratio of digits to total characters in URL (0-1 scale)'\n",
    "    ],\n",
    "    'Type': ['Binary', 'Continuous'],\n",
    "    'Min_Value': [df['has_ip'].min(), df['digit_density'].min()],\n",
    "    'Max_Value': [df['has_ip'].max(), df['digit_density'].max()],\n",
    "    'Mean_Value': [df['has_ip'].mean(), df['digit_density'].mean()]\n",
    "})\n",
    "\n",
    "print(\"M3 Feature Engineering Summary:\")\n",
    "print(\"=\"*60)\n",
    "print(feature_summary.to_string(index=False))\n",
    "\n",
    "# Display final dataset structure\n",
    "print(f\"\\nFinal dataset shape: {df.shape}\")\n",
    "print(f\"New features added: has_ip, digit_density\")\n",
    "print(f\"\\nDataset columns: {df.columns.tolist()}\")\n",
    "\n",
    "# Save results for integration with other modules\n",
    "# df.to_csv('../data/processed/m3_features.csv', index=False)\n",
    "\n",
    "print(\"IP Detection & Digit Density features successfully extracted\")\n"
   ]
  }
 ],
 "metadata": {
  "kernelspec": {
   "display_name": ".venv",
   "language": "python",
   "name": "python3"
  },
  "language_info": {
   "codemirror_mode": {
    "name": "ipython",
    "version": 3
   },
   "file_extension": ".py",
   "mimetype": "text/x-python",
   "name": "python",
   "nbconvert_exporter": "python",
   "pygments_lexer": "ipython3",
   "version": "3.12.3"
  }
 },
 "nbformat": 4,
 "nbformat_minor": 5
}
